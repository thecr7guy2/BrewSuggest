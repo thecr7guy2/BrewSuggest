{
 "cells": [
  {
   "cell_type": "markdown",
   "id": "df6c1407-9659-4893-b971-640cc7b3488c",
   "metadata": {},
   "source": [
    "#### 🍺 EDA for the Beer reviews Dataset 🍺"
   ]
  },
  {
   "cell_type": "markdown",
   "id": "08d3145d-feb3-4745-a577-cd3dd3aaab9e",
   "metadata": {},
   "source": [
    "Data from - https://www.kaggle.com/datasets/rdoume/beerreviews"
   ]
  },
  {
   "cell_type": "markdown",
   "id": "3c9decee-dc70-4f81-8d53-83bbec279cd8",
   "metadata": {},
   "source": [
    "##### 👋 Introduction"
   ]
  },
  {
   "cell_type": "markdown",
   "id": "da0f0973-bdd4-484d-a20c-f4719148433a",
   "metadata": {},
   "source": [
    "Now that we have a task of building an end to end beer recommending machine learning model, we need to first understand the data we are working with. This notebook will analyze the beer_reviews dataset to answer some important questions."
   ]
  },
  {
   "cell_type": "markdown",
   "id": "be0bd622-ab8f-46cc-97a2-9488d1e1f1a1",
   "metadata": {},
   "source": [
    "So grab a cold one and let's get started! 🍺🍺"
   ]
  },
  {
   "cell_type": "markdown",
   "id": "b1190d69-afe3-4048-9d68-586964635bcb",
   "metadata": {},
   "source": [
    "##### 💻 Import Necessary Libraries and Load Data"
   ]
  },
  {
   "cell_type": "code",
   "execution_count": 6,
   "id": "b4e98aea-5823-4ec2-89d0-e9ffb9dbb538",
   "metadata": {},
   "outputs": [],
   "source": [
    "import pandas as pd\n",
    "import numpy as np\n",
    "import matplotlib.pyplot as plt\n",
    "import seaborn as sns\n",
    "sns.set(style=\"darkgrid\")"
   ]
  },
  {
   "cell_type": "code",
   "execution_count": 5,
   "id": "791de68e-abae-47a1-8f73-59cd00f19a62",
   "metadata": {},
   "outputs": [],
   "source": [
    "beer_df = pd.read_csv('beer_reviews.csv')"
   ]
  },
  {
   "cell_type": "code",
   "execution_count": 4,
   "id": "292ab472-e7af-413a-ac45-0bd417d04d33",
   "metadata": {},
   "outputs": [
    {
     "data": {
      "text/html": [
       "<div>\n",
       "<style scoped>\n",
       "    .dataframe tbody tr th:only-of-type {\n",
       "        vertical-align: middle;\n",
       "    }\n",
       "\n",
       "    .dataframe tbody tr th {\n",
       "        vertical-align: top;\n",
       "    }\n",
       "\n",
       "    .dataframe thead th {\n",
       "        text-align: right;\n",
       "    }\n",
       "</style>\n",
       "<table border=\"1\" class=\"dataframe\">\n",
       "  <thead>\n",
       "    <tr style=\"text-align: right;\">\n",
       "      <th></th>\n",
       "      <th>brewery_id</th>\n",
       "      <th>brewery_name</th>\n",
       "      <th>review_time</th>\n",
       "      <th>review_overall</th>\n",
       "      <th>review_aroma</th>\n",
       "      <th>review_appearance</th>\n",
       "      <th>review_profilename</th>\n",
       "      <th>beer_style</th>\n",
       "      <th>review_palate</th>\n",
       "      <th>review_taste</th>\n",
       "      <th>beer_name</th>\n",
       "      <th>beer_abv</th>\n",
       "      <th>beer_beerid</th>\n",
       "    </tr>\n",
       "  </thead>\n",
       "  <tbody>\n",
       "    <tr>\n",
       "      <th>0</th>\n",
       "      <td>10325</td>\n",
       "      <td>Vecchio Birraio</td>\n",
       "      <td>1234817823</td>\n",
       "      <td>1.5</td>\n",
       "      <td>2.0</td>\n",
       "      <td>2.5</td>\n",
       "      <td>stcules</td>\n",
       "      <td>Hefeweizen</td>\n",
       "      <td>1.5</td>\n",
       "      <td>1.5</td>\n",
       "      <td>Sausa Weizen</td>\n",
       "      <td>5.0</td>\n",
       "      <td>47986</td>\n",
       "    </tr>\n",
       "    <tr>\n",
       "      <th>1</th>\n",
       "      <td>10325</td>\n",
       "      <td>Vecchio Birraio</td>\n",
       "      <td>1235915097</td>\n",
       "      <td>3.0</td>\n",
       "      <td>2.5</td>\n",
       "      <td>3.0</td>\n",
       "      <td>stcules</td>\n",
       "      <td>English Strong Ale</td>\n",
       "      <td>3.0</td>\n",
       "      <td>3.0</td>\n",
       "      <td>Red Moon</td>\n",
       "      <td>6.2</td>\n",
       "      <td>48213</td>\n",
       "    </tr>\n",
       "    <tr>\n",
       "      <th>2</th>\n",
       "      <td>10325</td>\n",
       "      <td>Vecchio Birraio</td>\n",
       "      <td>1235916604</td>\n",
       "      <td>3.0</td>\n",
       "      <td>2.5</td>\n",
       "      <td>3.0</td>\n",
       "      <td>stcules</td>\n",
       "      <td>Foreign / Export Stout</td>\n",
       "      <td>3.0</td>\n",
       "      <td>3.0</td>\n",
       "      <td>Black Horse Black Beer</td>\n",
       "      <td>6.5</td>\n",
       "      <td>48215</td>\n",
       "    </tr>\n",
       "    <tr>\n",
       "      <th>3</th>\n",
       "      <td>10325</td>\n",
       "      <td>Vecchio Birraio</td>\n",
       "      <td>1234725145</td>\n",
       "      <td>3.0</td>\n",
       "      <td>3.0</td>\n",
       "      <td>3.5</td>\n",
       "      <td>stcules</td>\n",
       "      <td>German Pilsener</td>\n",
       "      <td>2.5</td>\n",
       "      <td>3.0</td>\n",
       "      <td>Sausa Pils</td>\n",
       "      <td>5.0</td>\n",
       "      <td>47969</td>\n",
       "    </tr>\n",
       "    <tr>\n",
       "      <th>4</th>\n",
       "      <td>1075</td>\n",
       "      <td>Caldera Brewing Company</td>\n",
       "      <td>1293735206</td>\n",
       "      <td>4.0</td>\n",
       "      <td>4.5</td>\n",
       "      <td>4.0</td>\n",
       "      <td>johnmichaelsen</td>\n",
       "      <td>American Double / Imperial IPA</td>\n",
       "      <td>4.0</td>\n",
       "      <td>4.5</td>\n",
       "      <td>Cauldron DIPA</td>\n",
       "      <td>7.7</td>\n",
       "      <td>64883</td>\n",
       "    </tr>\n",
       "  </tbody>\n",
       "</table>\n",
       "</div>"
      ],
      "text/plain": [
       "   brewery_id             brewery_name  review_time  review_overall  \\\n",
       "0       10325          Vecchio Birraio   1234817823             1.5   \n",
       "1       10325          Vecchio Birraio   1235915097             3.0   \n",
       "2       10325          Vecchio Birraio   1235916604             3.0   \n",
       "3       10325          Vecchio Birraio   1234725145             3.0   \n",
       "4        1075  Caldera Brewing Company   1293735206             4.0   \n",
       "\n",
       "   review_aroma  review_appearance review_profilename  \\\n",
       "0           2.0                2.5            stcules   \n",
       "1           2.5                3.0            stcules   \n",
       "2           2.5                3.0            stcules   \n",
       "3           3.0                3.5            stcules   \n",
       "4           4.5                4.0     johnmichaelsen   \n",
       "\n",
       "                       beer_style  review_palate  review_taste  \\\n",
       "0                      Hefeweizen            1.5           1.5   \n",
       "1              English Strong Ale            3.0           3.0   \n",
       "2          Foreign / Export Stout            3.0           3.0   \n",
       "3                 German Pilsener            2.5           3.0   \n",
       "4  American Double / Imperial IPA            4.0           4.5   \n",
       "\n",
       "                beer_name  beer_abv  beer_beerid  \n",
       "0            Sausa Weizen       5.0        47986  \n",
       "1                Red Moon       6.2        48213  \n",
       "2  Black Horse Black Beer       6.5        48215  \n",
       "3              Sausa Pils       5.0        47969  \n",
       "4           Cauldron DIPA       7.7        64883  "
      ]
     },
     "execution_count": 4,
     "metadata": {},
     "output_type": "execute_result"
    }
   ],
   "source": [
    "beer_df.head()"
   ]
  },
  {
   "cell_type": "code",
   "execution_count": 7,
   "id": "b111044d-f356-4eda-b6e4-aac9633a5771",
   "metadata": {},
   "outputs": [
    {
     "data": {
      "text/plain": [
       "(1586614, 13)"
      ]
     },
     "execution_count": 7,
     "metadata": {},
     "output_type": "execute_result"
    }
   ],
   "source": [
    "beer_df.shape"
   ]
  },
  {
   "cell_type": "markdown",
   "id": "44002461-ba0a-4604-9787-9c3ad646949d",
   "metadata": {},
   "source": [
    "There are almost 1.5 million entries on the reviews of the beer and have 13 attributes repreesenting the data"
   ]
  },
  {
   "cell_type": "code",
   "execution_count": 12,
   "id": "f392d666-079c-496a-940b-819b28b3c927",
   "metadata": {},
   "outputs": [
    {
     "name": "stdout",
     "output_type": "stream",
     "text": [
      "<class 'pandas.core.frame.DataFrame'>\n",
      "RangeIndex: 1586614 entries, 0 to 1586613\n",
      "Data columns (total 13 columns):\n",
      " #   Column              Non-Null Count    Dtype  \n",
      "---  ------              --------------    -----  \n",
      " 0   brewery_id          1586614 non-null  int64  \n",
      " 1   brewery_name        1586599 non-null  object \n",
      " 2   review_time         1586614 non-null  int64  \n",
      " 3   review_overall      1586614 non-null  float64\n",
      " 4   review_aroma        1586614 non-null  float64\n",
      " 5   review_appearance   1586614 non-null  float64\n",
      " 6   review_profilename  1586266 non-null  object \n",
      " 7   beer_style          1586614 non-null  object \n",
      " 8   review_palate       1586614 non-null  float64\n",
      " 9   review_taste        1586614 non-null  float64\n",
      " 10  beer_name           1586614 non-null  object \n",
      " 11  beer_abv            1518829 non-null  float64\n",
      " 12  beer_beerid         1586614 non-null  int64  \n",
      "dtypes: float64(6), int64(3), object(4)\n",
      "memory usage: 157.4+ MB\n"
     ]
    }
   ],
   "source": [
    "beer_df.info()"
   ]
  },
  {
   "cell_type": "code",
   "execution_count": null,
   "id": "a6323282-96ab-4c8a-af1f-f7b395d712be",
   "metadata": {},
   "outputs": [],
   "source": []
  },
  {
   "cell_type": "markdown",
   "id": "9117da78-3399-4e12-ba77-57fa216a436b",
   "metadata": {},
   "source": [
    "This dataset encompasses reviews and details about various beers. Here's an explanation of each column:\n",
    "\n",
    "- **brewery_id**: A unique identifier for each brewery.\n",
    "  \n",
    "- **brewery_name**: The name of the brewery where the beer is produced.\n",
    "\n",
    "- **review_time**: The timestamp or date of the review submission.\n",
    "\n",
    "- **review_overall**: The overall rating or score for the beer.\n",
    "\n",
    "- **review_aroma**: Rating or description of the beer's aroma.\n",
    "\n",
    "- **review_appearance**: Rating or description of the beer's visual appearance.\n",
    "\n",
    "- **review_profilename**: The username of the reviewer.\n",
    "\n",
    "- **beer_style**: The specific style or category of the beer (e.g., Stout, IPA).\n",
    "\n",
    "- **review_palate**: Rating or description related to the beer's mouthfeel.\n",
    "\n",
    "- **review_taste**: Rating or description of the beer's flavor profile.\n",
    "\n",
    "- **beer_name**: The name of the specific beer under review.\n",
    "\n",
    "- **beer_abv**: Alcohol content of the beer, indicated as a percentage.\n",
    "\n",
    "- **beer_beerid**: A unique identifier for each specific beer.\n"
   ]
  },
  {
   "cell_type": "markdown",
   "id": "84805835-8c92-4a98-829b-8c3d2d5b48d1",
   "metadata": {},
   "source": [
    "##### 🧹 Data Cleaning"
   ]
  },
  {
   "cell_type": "markdown",
   "id": "0b3ec86d-5a52-4a53-8840-bc7bba0d24fb",
   "metadata": {},
   "source": [
    "Before the data is even analyzed, it needs to be cleaned. This involves handling missing values, outliers, and other data issues."
   ]
  },
  {
   "cell_type": "code",
   "execution_count": null,
   "id": "bf058e6c-79f5-4fa7-9cd7-c158806c79cf",
   "metadata": {},
   "outputs": [],
   "source": []
  }
 ],
 "metadata": {
  "kernelspec": {
   "display_name": "stablenv",
   "language": "python",
   "name": "stablenv"
  },
  "language_info": {
   "codemirror_mode": {
    "name": "ipython",
    "version": 3
   },
   "file_extension": ".py",
   "mimetype": "text/x-python",
   "name": "python",
   "nbconvert_exporter": "python",
   "pygments_lexer": "ipython3",
   "version": "3.10.12"
  }
 },
 "nbformat": 4,
 "nbformat_minor": 5
}
